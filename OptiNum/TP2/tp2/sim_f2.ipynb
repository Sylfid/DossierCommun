{
 "cells": [
  {
   "cell_type": "markdown",
   "metadata": {
    "collapsed": true,
    "deletable": true,
    "editable": true
   },
   "source": [
    "# Simulateur de $f_2$\n",
    "\n",
    "\n",
    "$$\\begin{array}{rrcll}\n",
    "f: & \\mathbb{R}^2 & \\to &\\mathbb{R}\\\\\n",
    "& x & \\mapsto  & (1-x_1)^2 + 100(x_2-x_1^2)^2\n",
    "\\end{array}$$\n"
   ]
  },
  {
   "cell_type": "markdown",
   "metadata": {
    "deletable": true,
    "editable": true
   },
   "source": [
    "### Paramètres"
   ]
  },
  {
   "cell_type": "code",
   "execution_count": 1,
   "metadata": {
    "collapsed": false,
    "deletable": true,
    "editable": true
   },
   "outputs": [],
   "source": [
    "##### Plot parameters f\n",
    "x1_min = -1.5\n",
    "x1_max = 1.5\n",
    "x2_min = -0.2\n",
    "x2_max = 1.5\n",
    "nb_points = 200\n",
    "vmin = 0\n",
    "vmax = 200\n",
    "levels = [1,2,5,10,20,30,50,100,200]\n",
    "title = 'Rosenbrock'\n",
    "####"
   ]
  },
  {
   "cell_type": "markdown",
   "metadata": {
    "collapsed": true,
    "deletable": true,
    "editable": true
   },
   "source": [
    "### Simulateur\n"
   ]
  },
  {
   "cell_type": "code",
   "execution_count": 4,
   "metadata": {
    "collapsed": true,
    "deletable": true,
    "editable": true
   },
   "outputs": [],
   "source": [
    "import numpy as np\n",
    "\n",
    "def sim(x):\n",
    "    f = 0\n",
    "    g = np.zeros(2)\n",
    "    ####################\n",
    "    # A COMPLETER\n",
    "    \n",
    "    ####################\n",
    "    f = (1-x[0])**2 + 100*(x[1]-x[0]**2)**2\n",
    "    g[0] = -2*(1-x[0]) - 100*4*x[0]*(x[1]-x[0]**2)\n",
    "    g[1] = 2*100*(x[1]-x[0]**2)\n",
    "    \n",
    "    return f,g"
   ]
  },
  {
   "cell_type": "code",
   "execution_count": null,
   "metadata": {
    "collapsed": true
   },
   "outputs": [],
   "source": []
  }
 ],
 "metadata": {
  "kernelspec": {
   "display_name": "Python 3",
   "language": "python",
   "name": "python3"
  },
  "language_info": {
   "codemirror_mode": {
    "name": "ipython",
    "version": 3
   },
   "file_extension": ".py",
   "mimetype": "text/x-python",
   "name": "python",
   "nbconvert_exporter": "python",
   "pygments_lexer": "ipython3",
   "version": "3.5.6"
  }
 },
 "nbformat": 4,
 "nbformat_minor": 1
}
