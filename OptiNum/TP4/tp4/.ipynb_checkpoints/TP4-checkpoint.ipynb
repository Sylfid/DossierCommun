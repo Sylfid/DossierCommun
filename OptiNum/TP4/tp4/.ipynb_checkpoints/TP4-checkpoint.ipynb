{
 "cells": [
  {
   "cell_type": "markdown",
   "metadata": {},
   "source": [
    "<table>\n",
    "<tr style=\"background-color:#FFFFFF;\">\n",
    "<td width=15%>\n",
    "    <table>\n",
    "        <tr><img src=\"Fig/Ensimag.png\"></img>\n",
    "        </tr>\n",
    "    </table>\n",
    "</td>\n",
    "<td>\n",
    "    <table>\n",
    "        <tr><center><h1>Optimisation Numérique - TP4</h1></center>\n",
    "        </tr>\n",
    "        <tr><center><h2>Bundle Methods (1.5h)</h2></center>\n",
    "        </tr>\n",
    "    </table>\n",
    "</td>\n",
    "<td width=15%>\n",
    "    <table>\n",
    "        <tr><a href=\"https://ljk.imag.fr/membres/Jerome.Malick/teaching.html\" style=\"font-size: 16px; font-weight: bold\">Jérôme Malick </br></a>\n",
    "        </tr>   \n",
    "        <tr><a href=\"http://grishchenko.org\" style=\"font-size: 16px; font-weight: bold\">Dmitri Grishenko <br></a>\n",
    "        </tr>\n",
    "        <tr><a href=\"https://yassine-laguel.github.io/teaching/\" style=\"font-size: 16px; font-weight: bold\">Yassine Laguel </br></a>\n",
    "        </tr>\n",
    "    </table>\n",
    "</td>\n",
    "</tr>\n",
    "</table>"
   ]
  },
  {
   "cell_type": "markdown",
   "metadata": {},
   "source": [
    "**Objectif :** Dans ce court premier TP sur les methodes\n",
    "d'optimisation convexe non-différentiable, nous ecrivons un simulateur pour\n",
    "une fonction non-différentiable que nous minimisons ensuite par la méthode des\n",
    "faisceaux."
   ]
  },
  {
   "cell_type": "code",
   "execution_count": 1,
   "metadata": {},
   "outputs": [],
   "source": [
    "import numpy as np\n",
    "from cvxopt import solvers, matrix\n",
    "solvers.options['show_progress'] = False\n",
    "%matplotlib inline"
   ]
  },
  {
   "cell_type": "markdown",
   "metadata": {},
   "source": [
    "## Affectation linéaire\n",
    "---\n",
    "\n",
    "Considérons le problème d'affectation (P):\n",
    "$$\n",
    "\\begin{array}{l}\n",
    "min \\quad \\sum_{i=1}^n\\sum_{j=1}^na_{ij}u_{ij}\\\\\n",
    "\\quad \\sum_{j=1}^n\\;u_{ij} = 1,\\quad \\textrm{pour tout }i=1,\\dots,n,\\\\\n",
    "\\quad \\sum_{i=1}^n\\;u_{ij} = 1,\\quad \\textrm{pour tout }j=1,\\dots,n,\\\\\n",
    "\\quad u_{ij}\\in \\{0,1\\},\\quad \\textrm{pour tout }i,j=1,\\dots,n.\n",
    "\\end{array}\n",
    "$$\n"
   ]
  },
  {
   "cell_type": "markdown",
   "metadata": {},
   "source": [
    "1. Écrire (P) sous forme matricielle, et donner une interpretation matricielle du probèlme. \n",
    "\n",
    "1. On veut dualiser les $n$ premieres contraintes dans (P), écrire le lagrangien $L(\\cdot;\\cdot)$ associe a ce problème. Definir la fonction duale associée.\n",
    "1. Montrer qu'on peut calculer explicitement $U_{\\lambda}$."
   ]
  },
  {
   "cell_type": "markdown",
   "metadata": {},
   "source": [
    "## Simulateur de la fonction duale\n",
    "---\n",
    "\n",
    "Pour la suite du TP, on fixe les donnees : \n",
    "on suppose qu'on est en dimension $n=10$ \n",
    "et que les couts sont donnes par la matrice \n",
    "$A = [1:n]*[1:n]^\\top $\n",
    "\n",
    "> Utiliser cette matrice pour ecrire un simulateur ``simdual`` de la fonction duale dont les sorties sont:\n",
    "  - $\\theta (\\lambda) = L(U_{\\lambda},\\lambda)$, la valeur de la fonction duale,\n",
    "  - $g(\\lambda) = -c(U_{\\lambda})$ (avec les notations du cours). "
   ]
  },
  {
   "cell_type": "code",
   "execution_count": 2,
   "metadata": {
    "collapsed": true
   },
   "outputs": [],
   "source": [
    "def theta(lambda_, A):\n",
    "    n = A.shape[0]\n",
    "    theta = 0\n",
    "    # TODO\n",
    "    return theta\n",
    "\n",
    "def U_(lambda_, A):\n",
    "    n = A.shape[0]\n",
    "    U = np.zeros((n, n))\n",
    "    # TODO\n",
    "    return U\n",
    "\n",
    "def subgrad(U, A):\n",
    "    n = A.shape[0]\n",
    "    sg = np.zeros((n, 1))\n",
    "    # TODO\n",
    "    return sg\n",
    "\n",
    "def simdual(lambda_, A):\n",
    "    return theta(lambda_, A), subgrad(U_(lambda_, A), A) "
   ]
  },
  {
   "cell_type": "markdown",
   "metadata": {},
   "source": [
    "### Résolution par algorithme des faisceaux (Bundle)\n",
    "\n",
    "> Trouver un minimum de la fonction duale par la méthode des faisceaux en formulant chaque mise à jour comme un problème QP et en faisant appel à cvxopt comme dans le premier TP sur la reformulation LP/QP."
   ]
  },
  {
   "cell_type": "markdown",
   "metadata": {},
   "source": [
    "####  Rappel de cours sur la méthode des faisceaux :\n",
    "\n",
    "Soit $\\theta : R^n\\rightarrow R,\\lambda\\mapsto\\theta(\\lambda)$ une fonction convexe \n",
    "(non differentiable a priori). \n",
    "\n",
    "Rappelons rapidement le principe de la methode \n",
    "des faisceaux pour minimiser $\\theta$.\n",
    "\n",
    "A l'iteration $k$, on dispose du  faisceau d'information\n",
    "$$\n",
    "\\{(\\theta(\\lambda^j),g^j):j=1,\\ldots,k\\}.\n",
    "$$\n",
    "(Dans tout ce qui suit, les indices superieurs noteront un numero\n",
    "d'iteration.)\n",
    "\n",
    "\n",
    "\n",
    "On definit $\\bar{\\lambda}^k$ comme le meilleur des\n",
    "$\\lambda^j$, i.e.\n",
    "$\\theta(\\bar{\\lambda}^k)\\leqslant\\theta(\\lambda^j)$, $j=1,\\ldots,k$.\n",
    "L'itere suivant est alors obtenu comme solution de :\n",
    "$$ \n",
    "  \\begin{aligned}\n",
    "  \\min r+\\frac{1}{2} \\| \\lambda-\\bar{\\lambda}^k \\|^2 \\\\\n",
    "  (\\lambda,r)\\in R^n\\times R \\\\\n",
    "  \\quad r\\geqslant \\theta(\\lambda^j)+(\\lambda-\\lambda^j)^\\top g^j,  j=1,\\ldots,k\n",
    "  \\end{aligned}\n",
    "$$"
   ]
  },
  {
   "cell_type": "markdown",
   "metadata": {},
   "source": [
    "#### Structure du l'algo\n",
    "\n",
    "Pour l'algorithme de faisceaux rudimentaire de ce TP, nous allons utiliser le méta-algorithme suivant, avec le simulateur (f_simulator) et le calcul de l'itération suivante (next_x) à spécifier "
   ]
  },
  {
   "cell_type": "code",
   "execution_count": 3,
   "metadata": {
    "collapsed": true,
    "scrolled": true
   },
   "outputs": [],
   "source": [
    "def minimize(f_simulator, next_x, x0, nb_iter):\n",
    "    \"\"\"\n",
    "    Minimizes the function simulated by 'f_simulator'. \n",
    "    \n",
    "    Parameters:\n",
    "    - the simulator 'f_simulator' of a function f\n",
    "    - a function 'next_x' that computes x_k+1 based on data computed at the iteration k\n",
    "    - the number of iterations 'nb_iter'\n",
    "    - the initial value of x 'x0'\n",
    "    \n",
    "    Returns:\n",
    "    - the final point x that aproaches the optimal solution of minimization problem\n",
    "    - the list of x_k found during the 'nb_iter' iterations\n",
    "    - the list of corresponding values of f\n",
    "    - the list of corresponding values of subradient of f\n",
    "    \"\"\"\n",
    "    \n",
    "    # Initialization\n",
    "    x           = np.copy(x0)\n",
    "    x_tab       = [np.copy(x0)]\n",
    "    f_tab       = [f_simulator(x)[0]]\n",
    "    subgrad_tab = [f_simulator(x)[1]]\n",
    "    \n",
    "    for k in range(nb_iter):\n",
    "        # Simulation of f and its subgradient in x \n",
    "        f, subgrad = f_simulator(x)\n",
    "        \n",
    "        # Updating the list of xs and the corresponding values of f and its subgradient\n",
    "        f_tab       += [f]\n",
    "        subgrad_tab += [np.copy(subgrad)]\n",
    "        x            = next_x(x, x_tab, f_tab, subgrad_tab)\n",
    "        x_tab       += [np.copy(x)]\n",
    "    \n",
    "    return x, x_tab, f_tab, subgrad_tab"
   ]
  },
  {
   "cell_type": "markdown",
   "metadata": {},
   "source": [
    "#### Itération `next_x`\n",
    "\n",
    "Le calcul de l'itération suivante consiste à résoudre un sous-probleme quadratique. "
   ]
  },
  {
   "cell_type": "code",
   "execution_count": 4,
   "metadata": {
    "collapsed": true
   },
   "outputs": [],
   "source": [
    "def bundle_next_x(x, x_tab, f_tab, subgrad_tab):\n",
    "    P = P_(x)\n",
    "    q = q_(x)\n",
    "    G = G_(subgrad_tab[:-1])\n",
    "    h = h_(x_tab, f_tab[:-1], subgrad_tab[:-1])\n",
    "    solution = solvers.qp(P, q, G, h)\n",
    "    x = np.array(solution['x'])[1:]\n",
    "    return x"
   ]
  },
  {
   "cell_type": "markdown",
   "metadata": {},
   "source": [
    "Il reste donc à spécifier les entrées du solver quadratique."
   ]
  },
  {
   "cell_type": "code",
   "execution_count": 5,
   "metadata": {
    "collapsed": true
   },
   "outputs": [],
   "source": [
    "def P_(lambda_):\n",
    "    n = lambda_.shape[0]\n",
    "    P = np.zeros(n+1)\n",
    "    # TODO\n",
    "    return matrix(P)\n",
    "\n",
    "def q_(lambda_):\n",
    "    q = 0 # TODO\n",
    "    return matrix(q)\n",
    "\n",
    "def G_(subgrad_tab):\n",
    "    # TODO\n",
    "    return matrix(G)\n",
    "\n",
    "def h_(lambda_tab, theta_tab, subgrad_tab):\n",
    "    # TODO     \n",
    "    return matrix(h)"
   ]
  }
 ],
 "metadata": {
  "_draft": {
   "nbviewer_url": "https://gist.github.com/b475729034251de474fb801e1d661130"
  },
  "anaconda-cloud": {},
  "gist": {
   "data": {
    "description": "TP4_Bundle",
    "public": false
   },
   "id": "b475729034251de474fb801e1d661130"
  },
  "kernelspec": {
   "display_name": "Python 3",
   "language": "python",
   "name": "python3"
  },
  "language_info": {
   "codemirror_mode": {
    "name": "ipython",
    "version": 3
   },
   "file_extension": ".py",
   "mimetype": "text/x-python",
   "name": "python",
   "nbconvert_exporter": "python",
   "pygments_lexer": "ipython3",
   "version": "3.6.8"
  },
  "varInspector": {
   "cols": {
    "lenName": 16,
    "lenType": 16,
    "lenVar": 40
   },
   "kernels_config": {
    "python": {
     "delete_cmd_postfix": "",
     "delete_cmd_prefix": "del ",
     "library": "var_list.py",
     "varRefreshCmd": "print(var_dic_list())"
    },
    "r": {
     "delete_cmd_postfix": ") ",
     "delete_cmd_prefix": "rm(",
     "library": "var_list.r",
     "varRefreshCmd": "cat(var_dic_list()) "
    }
   },
   "types_to_exclude": [
    "module",
    "function",
    "builtin_function_or_method",
    "instance",
    "_Feature"
   ],
   "window_display": false
  }
 },
 "nbformat": 4,
 "nbformat_minor": 2
}
