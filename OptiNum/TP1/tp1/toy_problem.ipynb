{
 "cells": [
  {
   "cell_type": "markdown",
   "metadata": {},
   "source": [
    "<table>\n",
    "<tr style=\"background-color:#FFFFFF;\">\n",
    "<td width=15%>\n",
    "    <table>\n",
    "        <tr><img src=\"Fig/Ensimag.png\"></img>\n",
    "        </tr>\n",
    "    </table>\n",
    "</td>\n",
    "<td>\n",
    "    <table>\n",
    "        <tr><center><h1>Optimisation Numérique - TP1</h1></center>\n",
    "        </tr>\n",
    "        <tr><center><h2>Linear and Quadratic programs (1.5h)</h2></center>\n",
    "        </tr>\n",
    "    </table>\n",
    "</td>\n",
    "<td width=15%>\n",
    "    <table>\n",
    "        <tr><a href=\"https://ljk.imag.fr/membres/Jerome.Malick/teaching.html\" style=\"font-size: 16px; font-weight: bold\">Jérôme Malick </br></a>\n",
    "        </tr>   \n",
    "        <tr><a href=\"http://grishchenko.org\" style=\"font-size: 16px; font-weight: bold\">Dmitri Grishenko <br></a>\n",
    "        </tr>\n",
    "        <tr><a href=\"https://yassine-laguel.github.io/teaching/\" style=\"font-size: 16px; font-weight: bold\">Yassine Laguel </br></a>\n",
    "        </tr>\n",
    "    </table>\n",
    "</td>\n",
    "</tr>\n",
    "</table>"
   ]
  },
  {
   "cell_type": "markdown",
   "metadata": {},
   "source": [
    "# A toy Problem\n",
    "\n",
    "We consider the first illustrative example of the original paper\n",
    "\n",
    "    Candes, E., Tao, T. \"The Dantzig selector: Statistical estimation when p is much larger than n\". \n",
    "    The Annals of Statistics, 2007"
   ]
  },
  {
   "cell_type": "markdown",
   "metadata": {},
   "source": [
    "In this first example, the design matrix $X$ has $m = 72$ rows and $n = 256$ columns, with independent Gaussian entries (and then normalized so that the columns have unit-norm). We then select $\\theta$ with $S := |\\{i : \\theta_i = 0\\}| = 8$, and form $y = X\\theta + \\xi$, where the $\\xi_i$’s are i.i.d. $\\mathcal{N}(0, \\sigma^2 )$. The noise level is adjusted so that \n",
    "$$ \\sigma = \\frac{1}{3} \\sqrt{\\frac{S}{n}} .$$"
   ]
  },
  {
   "cell_type": "markdown",
   "metadata": {},
   "source": [
    "### Problem"
   ]
  },
  {
   "cell_type": "code",
   "execution_count": null,
   "metadata": {},
   "outputs": [],
   "source": [
    "import numpy as np\n",
    "\n",
    "# Parameters\n",
    "m = 72\n",
    "n = 256\n",
    "\n",
    "S = 8\n",
    "\n",
    "sigma = 1/3.0 * np.sqrt(S/float(m))\n",
    "\n",
    "# X creation\n",
    "X = np.random.randn(m, n)\n",
    "\n",
    "n_col = np.linalg.norm(X, axis=0)\n",
    "X = np.dot(X,np.diag(1/n_col))    # Normalization per column [Get rid of it for the \"To go further\" part!]\n",
    "\n",
    "# theta creation\n",
    "theta = np.zeros(n)\n",
    "non_null = np.random.choice(n, S)\n",
    "theta[non_null] = np.random.randn(S)\n",
    "\n",
    "\n",
    "# y creation\n",
    "y = np.dot(X,theta) + sigma*np.random.randn(m)\n"
   ]
  }
 ],
 "metadata": {
  "kernelspec": {
   "display_name": "Python 3",
   "language": "python",
   "name": "python3"
  },
  "language_info": {
   "codemirror_mode": {
    "name": "ipython",
    "version": 3
   },
   "file_extension": ".py",
   "mimetype": "text/x-python",
   "name": "python",
   "nbconvert_exporter": "python",
   "pygments_lexer": "ipython3",
   "version": "3.6.8"
  }
 },
 "nbformat": 4,
 "nbformat_minor": 1
}
